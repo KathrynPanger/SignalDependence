{
 "cells": [
  {
   "cell_type": "code",
   "execution_count": 63,
   "metadata": {},
   "outputs": [],
   "source": [
    "import pandas as pd\n",
    "import numpy as np\n",
    "from functions import summarize\n",
    "\n",
    "#to do:\n",
    "#import music signal from librosa\n",
    "#transform wave to make it all positive"
   ]
  },
  {
   "cell_type": "code",
   "execution_count": 3,
   "metadata": {},
   "outputs": [],
   "source": [
    "df=pd.read_csv(\"data.csv\")"
   ]
  },
  {
   "cell_type": "code",
   "execution_count": 4,
   "metadata": {},
   "outputs": [
    {
     "data": {
      "text/html": [
       "<div>\n",
       "<style scoped>\n",
       "    .dataframe tbody tr th:only-of-type {\n",
       "        vertical-align: middle;\n",
       "    }\n",
       "\n",
       "    .dataframe tbody tr th {\n",
       "        vertical-align: top;\n",
       "    }\n",
       "\n",
       "    .dataframe thead th {\n",
       "        text-align: right;\n",
       "    }\n",
       "</style>\n",
       "<table border=\"1\" class=\"dataframe\">\n",
       "  <thead>\n",
       "    <tr style=\"text-align: right;\">\n",
       "      <th></th>\n",
       "      <th>Unnamed: 0</th>\n",
       "      <th>id</th>\n",
       "      <th>spam</th>\n",
       "      <th>commentCount</th>\n",
       "      <th>dislikeCount</th>\n",
       "      <th>likeCount</th>\n",
       "      <th>viewCount</th>\n",
       "      <th>defaultAudioLanguage_.</th>\n",
       "      <th>defaultAudioLanguage_GB</th>\n",
       "      <th>defaultAudioLanguage_US</th>\n",
       "      <th>defaultAudioLanguage_en</th>\n",
       "      <th>defaultAudioLanguage_hi</th>\n",
       "      <th>defaultAudioLanguage_it</th>\n",
       "      <th>defaultAudioLanguage_zxx</th>\n",
       "      <th>likeToViews</th>\n",
       "      <th>dislikeToViews</th>\n",
       "      <th>commentToViews</th>\n",
       "    </tr>\n",
       "  </thead>\n",
       "  <tbody>\n",
       "    <tr>\n",
       "      <th>0</th>\n",
       "      <td>0</td>\n",
       "      <td>KH-i2P92bS4</td>\n",
       "      <td>1</td>\n",
       "      <td>421</td>\n",
       "      <td>1009</td>\n",
       "      <td>3747</td>\n",
       "      <td>93583</td>\n",
       "      <td>0</td>\n",
       "      <td>0</td>\n",
       "      <td>0</td>\n",
       "      <td>0</td>\n",
       "      <td>0</td>\n",
       "      <td>0</td>\n",
       "      <td>1</td>\n",
       "      <td>4.003932</td>\n",
       "      <td>1.078187</td>\n",
       "      <td>0.449868</td>\n",
       "    </tr>\n",
       "    <tr>\n",
       "      <th>1</th>\n",
       "      <td>1</td>\n",
       "      <td>ix1vK9-9rUw</td>\n",
       "      <td>1</td>\n",
       "      <td>466</td>\n",
       "      <td>9</td>\n",
       "      <td>329</td>\n",
       "      <td>3065</td>\n",
       "      <td>1</td>\n",
       "      <td>0</td>\n",
       "      <td>0</td>\n",
       "      <td>0</td>\n",
       "      <td>0</td>\n",
       "      <td>0</td>\n",
       "      <td>0</td>\n",
       "      <td>10.734095</td>\n",
       "      <td>0.293638</td>\n",
       "      <td>15.203915</td>\n",
       "    </tr>\n",
       "    <tr>\n",
       "      <th>2</th>\n",
       "      <td>2</td>\n",
       "      <td>UZ4OrJHDpi0</td>\n",
       "      <td>1</td>\n",
       "      <td>1147</td>\n",
       "      <td>20</td>\n",
       "      <td>511</td>\n",
       "      <td>6129</td>\n",
       "      <td>1</td>\n",
       "      <td>0</td>\n",
       "      <td>0</td>\n",
       "      <td>0</td>\n",
       "      <td>0</td>\n",
       "      <td>0</td>\n",
       "      <td>0</td>\n",
       "      <td>8.337412</td>\n",
       "      <td>0.326318</td>\n",
       "      <td>18.714309</td>\n",
       "    </tr>\n",
       "    <tr>\n",
       "      <th>3</th>\n",
       "      <td>3</td>\n",
       "      <td>6wqiOt0HO_c</td>\n",
       "      <td>1</td>\n",
       "      <td>541</td>\n",
       "      <td>20</td>\n",
       "      <td>438</td>\n",
       "      <td>5316</td>\n",
       "      <td>1</td>\n",
       "      <td>0</td>\n",
       "      <td>0</td>\n",
       "      <td>0</td>\n",
       "      <td>0</td>\n",
       "      <td>0</td>\n",
       "      <td>0</td>\n",
       "      <td>8.239278</td>\n",
       "      <td>0.376223</td>\n",
       "      <td>10.176825</td>\n",
       "    </tr>\n",
       "    <tr>\n",
       "      <th>4</th>\n",
       "      <td>4</td>\n",
       "      <td>B80XsS6uvP8</td>\n",
       "      <td>1</td>\n",
       "      <td>415</td>\n",
       "      <td>18</td>\n",
       "      <td>743</td>\n",
       "      <td>9086</td>\n",
       "      <td>1</td>\n",
       "      <td>0</td>\n",
       "      <td>0</td>\n",
       "      <td>0</td>\n",
       "      <td>0</td>\n",
       "      <td>0</td>\n",
       "      <td>0</td>\n",
       "      <td>8.177416</td>\n",
       "      <td>0.198107</td>\n",
       "      <td>4.567466</td>\n",
       "    </tr>\n",
       "    <tr>\n",
       "      <th>...</th>\n",
       "      <td>...</td>\n",
       "      <td>...</td>\n",
       "      <td>...</td>\n",
       "      <td>...</td>\n",
       "      <td>...</td>\n",
       "      <td>...</td>\n",
       "      <td>...</td>\n",
       "      <td>...</td>\n",
       "      <td>...</td>\n",
       "      <td>...</td>\n",
       "      <td>...</td>\n",
       "      <td>...</td>\n",
       "      <td>...</td>\n",
       "      <td>...</td>\n",
       "      <td>...</td>\n",
       "      <td>...</td>\n",
       "      <td>...</td>\n",
       "    </tr>\n",
       "    <tr>\n",
       "      <th>121</th>\n",
       "      <td>122</td>\n",
       "      <td>-dBwZdc_c0M</td>\n",
       "      <td>2</td>\n",
       "      <td>4917</td>\n",
       "      <td>65</td>\n",
       "      <td>11535</td>\n",
       "      <td>375229</td>\n",
       "      <td>0</td>\n",
       "      <td>0</td>\n",
       "      <td>0</td>\n",
       "      <td>1</td>\n",
       "      <td>0</td>\n",
       "      <td>0</td>\n",
       "      <td>0</td>\n",
       "      <td>3.074123</td>\n",
       "      <td>0.017323</td>\n",
       "      <td>1.310400</td>\n",
       "    </tr>\n",
       "    <tr>\n",
       "      <th>122</th>\n",
       "      <td>123</td>\n",
       "      <td>Co0_HVab0vw</td>\n",
       "      <td>2</td>\n",
       "      <td>9455</td>\n",
       "      <td>86</td>\n",
       "      <td>10974</td>\n",
       "      <td>102265</td>\n",
       "      <td>0</td>\n",
       "      <td>0</td>\n",
       "      <td>0</td>\n",
       "      <td>1</td>\n",
       "      <td>0</td>\n",
       "      <td>0</td>\n",
       "      <td>0</td>\n",
       "      <td>10.730944</td>\n",
       "      <td>0.084095</td>\n",
       "      <td>9.245587</td>\n",
       "    </tr>\n",
       "    <tr>\n",
       "      <th>123</th>\n",
       "      <td>124</td>\n",
       "      <td>VBozk2qZEpg</td>\n",
       "      <td>2</td>\n",
       "      <td>436</td>\n",
       "      <td>23</td>\n",
       "      <td>2578</td>\n",
       "      <td>44388</td>\n",
       "      <td>0</td>\n",
       "      <td>0</td>\n",
       "      <td>0</td>\n",
       "      <td>1</td>\n",
       "      <td>0</td>\n",
       "      <td>0</td>\n",
       "      <td>0</td>\n",
       "      <td>5.807876</td>\n",
       "      <td>0.051816</td>\n",
       "      <td>0.982247</td>\n",
       "    </tr>\n",
       "    <tr>\n",
       "      <th>124</th>\n",
       "      <td>125</td>\n",
       "      <td>PC54M2M4hB0</td>\n",
       "      <td>2</td>\n",
       "      <td>262</td>\n",
       "      <td>1</td>\n",
       "      <td>451</td>\n",
       "      <td>3429</td>\n",
       "      <td>0</td>\n",
       "      <td>0</td>\n",
       "      <td>0</td>\n",
       "      <td>1</td>\n",
       "      <td>0</td>\n",
       "      <td>0</td>\n",
       "      <td>0</td>\n",
       "      <td>13.152523</td>\n",
       "      <td>0.029163</td>\n",
       "      <td>7.640712</td>\n",
       "    </tr>\n",
       "    <tr>\n",
       "      <th>125</th>\n",
       "      <td>126</td>\n",
       "      <td>eqyDoWveDNg</td>\n",
       "      <td>2</td>\n",
       "      <td>32297</td>\n",
       "      <td>472</td>\n",
       "      <td>43724</td>\n",
       "      <td>1151939</td>\n",
       "      <td>0</td>\n",
       "      <td>0</td>\n",
       "      <td>0</td>\n",
       "      <td>1</td>\n",
       "      <td>0</td>\n",
       "      <td>0</td>\n",
       "      <td>0</td>\n",
       "      <td>3.795687</td>\n",
       "      <td>0.040974</td>\n",
       "      <td>2.803707</td>\n",
       "    </tr>\n",
       "  </tbody>\n",
       "</table>\n",
       "<p>126 rows × 17 columns</p>\n",
       "</div>"
      ],
      "text/plain": [
       "     Unnamed: 0           id  spam  commentCount  dislikeCount  likeCount  \\\n",
       "0             0  KH-i2P92bS4     1           421          1009       3747   \n",
       "1             1  ix1vK9-9rUw     1           466             9        329   \n",
       "2             2  UZ4OrJHDpi0     1          1147            20        511   \n",
       "3             3  6wqiOt0HO_c     1           541            20        438   \n",
       "4             4  B80XsS6uvP8     1           415            18        743   \n",
       "..          ...          ...   ...           ...           ...        ...   \n",
       "121         122  -dBwZdc_c0M     2          4917            65      11535   \n",
       "122         123  Co0_HVab0vw     2          9455            86      10974   \n",
       "123         124  VBozk2qZEpg     2           436            23       2578   \n",
       "124         125  PC54M2M4hB0     2           262             1        451   \n",
       "125         126  eqyDoWveDNg     2         32297           472      43724   \n",
       "\n",
       "     viewCount  defaultAudioLanguage_.  defaultAudioLanguage_GB  \\\n",
       "0        93583                       0                        0   \n",
       "1         3065                       1                        0   \n",
       "2         6129                       1                        0   \n",
       "3         5316                       1                        0   \n",
       "4         9086                       1                        0   \n",
       "..         ...                     ...                      ...   \n",
       "121     375229                       0                        0   \n",
       "122     102265                       0                        0   \n",
       "123      44388                       0                        0   \n",
       "124       3429                       0                        0   \n",
       "125    1151939                       0                        0   \n",
       "\n",
       "     defaultAudioLanguage_US  defaultAudioLanguage_en  \\\n",
       "0                          0                        0   \n",
       "1                          0                        0   \n",
       "2                          0                        0   \n",
       "3                          0                        0   \n",
       "4                          0                        0   \n",
       "..                       ...                      ...   \n",
       "121                        0                        1   \n",
       "122                        0                        1   \n",
       "123                        0                        1   \n",
       "124                        0                        1   \n",
       "125                        0                        1   \n",
       "\n",
       "     defaultAudioLanguage_hi  defaultAudioLanguage_it  \\\n",
       "0                          0                        0   \n",
       "1                          0                        0   \n",
       "2                          0                        0   \n",
       "3                          0                        0   \n",
       "4                          0                        0   \n",
       "..                       ...                      ...   \n",
       "121                        0                        0   \n",
       "122                        0                        0   \n",
       "123                        0                        0   \n",
       "124                        0                        0   \n",
       "125                        0                        0   \n",
       "\n",
       "     defaultAudioLanguage_zxx  likeToViews  dislikeToViews  commentToViews  \n",
       "0                           1     4.003932        1.078187        0.449868  \n",
       "1                           0    10.734095        0.293638       15.203915  \n",
       "2                           0     8.337412        0.326318       18.714309  \n",
       "3                           0     8.239278        0.376223       10.176825  \n",
       "4                           0     8.177416        0.198107        4.567466  \n",
       "..                        ...          ...             ...             ...  \n",
       "121                         0     3.074123        0.017323        1.310400  \n",
       "122                         0    10.730944        0.084095        9.245587  \n",
       "123                         0     5.807876        0.051816        0.982247  \n",
       "124                         0    13.152523        0.029163        7.640712  \n",
       "125                         0     3.795687        0.040974        2.803707  \n",
       "\n",
       "[126 rows x 17 columns]"
      ]
     },
     "execution_count": 4,
     "metadata": {},
     "output_type": "execute_result"
    }
   ],
   "source": [
    "df"
   ]
  },
  {
   "cell_type": "code",
   "execution_count": 4,
   "metadata": {},
   "outputs": [],
   "source": [
    "comments=df[\"commentCount\"].to_numpy()\n",
    "likes=df[\"likeCount\"].to_numpy()"
   ]
  },
  {
   "cell_type": "code",
   "execution_count": 12,
   "metadata": {},
   "outputs": [
    {
     "data": {
      "text/plain": [
       "array([  3747,    329,    511,    438,    743,    789,     46,    123,\n",
       "          101,     97,     61,    581,    538,   1445,   1437,    717,\n",
       "         9204,  18355,  12368,  11551,  13436,   6677,   6252,   6737,\n",
       "         5575,   7119,    887,    249,   2889,    478,    534,   2651,\n",
       "         2211,   4434,   5449,   2316,   7691,  12167,  22729,  18932,\n",
       "         7982,  30658,     71,      0,     29,    233,  27613,      3,\n",
       "           31,     12,     10,     13,      1,     21,     34,   1026,\n",
       "           50,      4,     11,    605,      7,      0,     36,     11,\n",
       "            3,     60,      8,     29,      1,     29,  11227,   3490,\n",
       "         5367,    500,  10726,  12968,   2316,  68340,   7381,    661,\n",
       "          819,   1217,    870,    811,  72473,  84758,  94247, 317162,\n",
       "       299738,  18088,  19350,  22703,  16716,  32688,   5955,  81142,\n",
       "         6258,  17236,   8518,      0,     49,      1,    107,     23,\n",
       "         1517,   1132,    224,    181,    725,      0,    123,   4014,\n",
       "        14349,    767,  19136,   2536,  26688,    223,    669,  17623,\n",
       "          552,  11535,  10974,   2578,    451,  43724])"
      ]
     },
     "execution_count": 12,
     "metadata": {},
     "output_type": "execute_result"
    }
   ],
   "source": [
    "likes"
   ]
  },
  {
   "cell_type": "code",
   "execution_count": 13,
   "metadata": {},
   "outputs": [],
   "source": [
    "from scipy.fft import fft, ifft"
   ]
  },
  {
   "cell_type": "code",
   "execution_count": 16,
   "metadata": {},
   "outputs": [],
   "source": [
    "fcomments= fft(comments)\n",
    "flikes= fft(likes)\n"
   ]
  },
  {
   "cell_type": "code",
   "execution_count": 70,
   "metadata": {},
   "outputs": [
    {
     "ename": "NameError",
     "evalue": "name 'fcomments' is not defined",
     "output_type": "error",
     "traceback": [
      "\u001b[0;31m---------------------------------------------------------------------------\u001b[0m",
      "\u001b[0;31mNameError\u001b[0m                                 Traceback (most recent call last)",
      "\u001b[0;32m<ipython-input-70-b9e127ff0b71>\u001b[0m in \u001b[0;36m<module>\u001b[0;34m\u001b[0m\n\u001b[1;32m      4\u001b[0m \u001b[0;32mimport\u001b[0m \u001b[0mscipy\u001b[0m\u001b[0;34m.\u001b[0m\u001b[0mfftpack\u001b[0m\u001b[0;34m\u001b[0m\u001b[0;34m\u001b[0m\u001b[0m\n\u001b[1;32m      5\u001b[0m \u001b[0;34m\u001b[0m\u001b[0m\n\u001b[0;32m----> 6\u001b[0;31m \u001b[0mY\u001b[0m  \u001b[0;34m=\u001b[0m \u001b[0mnp\u001b[0m\u001b[0;34m.\u001b[0m\u001b[0mfft\u001b[0m\u001b[0;34m.\u001b[0m\u001b[0mfft\u001b[0m\u001b[0;34m(\u001b[0m\u001b[0mfcomments\u001b[0m\u001b[0;34m)\u001b[0m\u001b[0;34m\u001b[0m\u001b[0;34m\u001b[0m\u001b[0m\n\u001b[0m\u001b[1;32m      7\u001b[0m \u001b[0mfreq\u001b[0m \u001b[0;34m=\u001b[0m \u001b[0mnp\u001b[0m\u001b[0;34m.\u001b[0m\u001b[0mfft\u001b[0m\u001b[0;34m.\u001b[0m\u001b[0mfftfreq\u001b[0m\u001b[0;34m(\u001b[0m\u001b[0mlen\u001b[0m\u001b[0;34m(\u001b[0m\u001b[0mfcomments\u001b[0m\u001b[0;34m)\u001b[0m\u001b[0;34m,\u001b[0m \u001b[0;36m1\u001b[0m\u001b[0;34m)\u001b[0m\u001b[0;34m\u001b[0m\u001b[0;34m\u001b[0m\u001b[0m\n\u001b[1;32m      8\u001b[0m \u001b[0;34m\u001b[0m\u001b[0m\n",
      "\u001b[0;31mNameError\u001b[0m: name 'fcomments' is not defined"
     ]
    }
   ],
   "source": [
    "%matplotlib inline\n",
    "import numpy as np\n",
    "import matplotlib.pyplot as plt\n",
    "import scipy.fftpack\n",
    "\n",
    "Y  = np.fft.fft(fcomments)\n",
    "freq = np.fft.fftfreq(len(fcomments), 1)\n",
    "\n",
    "pylab.figure()\n",
    "pylab.plot( freq, numpy.abs(Y) )\n",
    "pylab.figure()\n",
    "pylab.plot(freq, numpy.angle(Y) )\n",
    "pylab.show()"
   ]
  },
  {
   "cell_type": "code",
   "execution_count": 54,
   "metadata": {},
   "outputs": [
    {
     "data": {
      "text/plain": [
       "210208.0"
      ]
     },
     "execution_count": 54,
     "metadata": {},
     "output_type": "execute_result"
    }
   ],
   "source": [
    "#get magnitude spectrum\n",
    "magnitude_spectrum_comments=np.abs(fcomments)\n",
    "#get mag spectrum coeficient\n",
    "mag=magnitude_spectrum_comments[0]\n",
    "mag"
   ]
  },
  {
   "cell_type": "code",
   "execution_count": 84,
   "metadata": {},
   "outputs": [],
   "source": [
    "def plot_m_s(signal, title, sr):\n",
    "    ft = np.fft.fft(signal)\n",
    "    mag_spectrum=np.abs(ft)\n",
    "\n",
    "    #plot mag spectrum\n",
    "\n",
    "    frequency = np.linspace(0,sr,len(mag_spectrum))\n",
    "    plt.plot(frequency, mag_spectrum)\n",
    "    plt.xlabel(\"Frequency in Hz\")\n",
    "    plt.title(title)\n",
    "    plt.show()\n"
   ]
  },
  {
   "cell_type": "code",
   "execution_count": 85,
   "metadata": {},
   "outputs": [],
   "source": [
    "import matplotlib.pyplot as plt"
   ]
  },
  {
   "cell_type": "code",
   "execution_count": 86,
   "metadata": {},
   "outputs": [
    {
     "data": {
      "image/png": "[encoded data removed]",
      "text/plain": [
       "<Figure size 432x288 with 1 Axes>"
      ]
     },
     "metadata": {
      "needs_background": "light"
     },
     "output_type": "display_data"
    }
   ],
   "source": [
    "plot_m_s(comments, \"comments\", 1)"
   ]
  },
  {
   "cell_type": "code",
   "execution_count": 112,
   "metadata": {},
   "outputs": [
    {
     "data": {
      "image/png": "[encoded data removed]",
      "text/plain": [
       "<Figure size 432x288 with 1 Axes>"
      ]
     },
     "metadata": {
      "needs_background": "light"
     },
     "output_type": "display_data"
    }
   ],
   "source": [
    "\n",
    "index=[]\n",
    "for i in range (len(fcomments)):\n",
    "    if i>0 and i<500:\n",
    "        index.append(50)\n",
    "    else:\n",
    "        index.append(0)\n",
    "\n",
    "ft = np.fft.fft(comments)\n",
    "yt = ft + index\n",
    "mag_spectrum=np.abs(ft)\n",
    "\n",
    "#plot mag spectrum\n",
    "\n",
    "frequency = np.linspace(0,1,len(mag_spectrum))\n",
    "\n",
    "#plt.plot(frequency, mag_spectrum)\n",
    "plt.plot(df[\"commentCount\"].to_numpy(), mag_spectrum)\n",
    "plt.xlabel(\"Frequency in Hz\")\n",
    "plt.title(\" \")\n",
    "plt.show()"
   ]
  },
  {
   "cell_type": "code",
   "execution_count": 101,
   "metadata": {},
   "outputs": [
    {
     "data": {
      "text/plain": [
       "(-5000+0j)"
      ]
     },
     "execution_count": 101,
     "metadata": {},
     "output_type": "execute_result"
    }
   ],
   "source": [
    "ft[1]-yt[1]"
   ]
  },
  {
   "cell_type": "code",
   "execution_count": 5,
   "metadata": {},
   "outputs": [
    {
     "data": {
      "text/plain": [
       "array([  421,   466,  1147,   541,   415,   651,    15,    49,    97,\n",
       "         164,    30,   142,   188,   193,   210,    99,  1106,  3050,\n",
       "        1429,  1589,  2166,   492,   595,   685,   953,   621,   256,\n",
       "          47,   774,    72,    91,   198,   129,   746,   311,   207,\n",
       "         509,  1390,   942,   947,   675,  3101,    86,     0,    38,\n",
       "          59, 10052,     0,    58,     6,     7,    39,     0,    33,\n",
       "          21,   211,    11,     3,    22,   196,     7,     0,    51,\n",
       "           0,     1,     3,     9,    52,     0,    13,    79,  2049,\n",
       "        2348,   282,  5991,  4074,   577,  5106,  1005,   418,   554,\n",
       "         990,   286,   405,  5874,  3551,  3415, 20323, 22610,   851,\n",
       "        1202,   887,   922,  1303,   456,   249,   532,   265,   305,\n",
       "           2,    13,     1,    14,    21,   573,   232,    44,    52,\n",
       "         163,     0,    68,   541,  1789,   261, 19089,  1120,  8683,\n",
       "         282,   176,  2471,  1450,  4917,  9455,   436,   262, 32297])"
      ]
     },
     "execution_count": 5,
     "metadata": {},
     "output_type": "execute_result"
    }
   ],
   "source": [
    "comments"
   ]
  },
  {
   "cell_type": "code",
   "execution_count": 6,
   "metadata": {},
   "outputs": [],
   "source": [
    "def totuple(a):\n",
    "        return tuple(totuple(i) for i in a)"
   ]
  },
  {
   "cell_type": "code",
   "execution_count": 20,
   "metadata": {},
   "outputs": [],
   "source": [
    "commentTuples=[]\n",
    "commentList=list(df[\"commentCount\"])\n",
    "for i in range (len(commentList)-1):\n",
    "    commentTuples.append((commentList[i],commentList[i+1]))\n"
   ]
  },
  {
   "cell_type": "code",
   "execution_count": 29,
   "metadata": {},
   "outputs": [],
   "source": [
    "slopes=[]\n",
    "for item in commentTuples:\n",
    "    slopes.append(abs(item[0]-item[1]))\n"
   ]
  },
  {
   "cell_type": "code",
   "execution_count": 34,
   "metadata": {},
   "outputs": [],
   "source": [
    "change_in_slope=[]\n",
    "for i in range(len(slopes)-1):\n",
    "    change_in_slope.append(abs(slopes[i]-slopes[i+1]))"
   ]
  },
  {
   "cell_type": "code",
   "execution_count": 46,
   "metadata": {},
   "outputs": [],
   "source": [
    "from functions import summarize"
   ]
  },
  {
   "cell_type": "code",
   "execution_count": 82,
   "metadata": {},
   "outputs": [
    {
     "name": "stdout",
     "output_type": "stream",
     "text": [
      "count      124.000000\n",
      "mean      1936.983871\n",
      "std       4767.580587\n",
      "min          0.000000\n",
      "25%         49.500000\n",
      "50%        280.000000\n",
      "75%       1041.750000\n",
      "max      31861.000000\n",
      "Name: change, dtype: float64\n",
      "\n",
      "\n"
     ]
    },
    {
     "data": {
      "image/png": "[encoded data removed]",
      "text/plain": [
       "<Figure size 432x288 with 1 Axes>"
      ]
     },
     "metadata": {
      "needs_background": "light"
     },
     "output_type": "display_data"
    },
    {
     "name": "stdout",
     "output_type": "stream",
     "text": [
      "(array([108.,   5.,   2.,   3.,   1.,   2.,   2.,   0.,   0.,   1.]), array([    0. ,  3186.1,  6372.2,  9558.3, 12744.4, 15930.5, 19116.6,\n",
      "       22302.7, 25488.8, 28674.9, 31861. ]), <BarContainer object of 10 artists>)\n"
     ]
    },
    {
     "data": {
      "image/png": "[encoded data removed]",
      "text/plain": [
       "<Figure size 432x288 with 1 Axes>"
      ]
     },
     "metadata": {
      "needs_background": "light"
     },
     "output_type": "display_data"
    }
   ],
   "source": [
    "df=pd.DataFrame(change_in_slope, columns=[\"change\"])\n",
    "summarize(df,\"change\")"
   ]
  },
  {
   "cell_type": "code",
   "execution_count": 81,
   "metadata": {},
   "outputs": [],
   "source": [
    "##############\n",
    "#Summary Stats\n",
    "##############\n",
    "def summarize(dataframe,variable):\n",
    "    #dependencies\n",
    "    import pandas as pd\n",
    "    import matplotlib.pyplot as plt\n",
    "    import numpy as np\n",
    "    #define arguments\n",
    "    dfvar=dataframe[variable]\n",
    "    description=dfvar.describe()\n",
    "    print(description)\n",
    "    print(\"\\n\")\n",
    "    checkset=dataframe.dropna(subset=[variable])\n",
    "    checkvar=dfvar.dropna().copy(deep=True)\n",
    "    if (checkvar % 1  == 0).all()== True and len(set(checkvar))<10:\n",
    "        cats=set(checkvar)\n",
    "        print(\"Obs per category\")\n",
    "        print(\"------------------\")\n",
    "        for item in cats:\n",
    "           count=len(dataframe.loc[dfvar == item])\n",
    "           percent=round(count/len(dfvar)*100, 2)\n",
    "           print(f\"{item}-> {count} ({percent}%)\")\n",
    "\n",
    "        x = set(checkvar)\n",
    "        heightlist=[]\n",
    "        for value in x:\n",
    "            heightlist.append(len(checkset.loc[checkset[variable] == value]))\n",
    "\n",
    "        x_pos = [i for i, _ in enumerate(x)]\n",
    "        plt.barh(x_pos, heightlist, color='green')\n",
    "        plt.yticks(x_pos, x)\n",
    "        plt.show()\n",
    "        \n",
    "\n",
    "    else:\n",
    "        hist=plt.hist(dfvar, bins=10)\n",
    "        plt.show()\n",
    "        print(hist)\n",
    "    \n",
    "    plt.scatter([i for i in range(len(checkvar))], checkvar, s=None, c=None, marker=None)"
   ]
  },
  {
   "cell_type": "code",
   "execution_count": 71,
   "metadata": {},
   "outputs": [],
   "source": [
    "import matplotlib.pyplot as plt"
   ]
  },
  {
   "cell_type": "code",
   "execution_count": 84,
   "metadata": {},
   "outputs": [],
   "source": [
    "zerocount=0\n",
    "for item in change_in_slope:\n",
    "    if item ==0:\n",
    "        zerocount+=1\n"
   ]
  },
  {
   "cell_type": "code",
   "execution_count": 85,
   "metadata": {},
   "outputs": [
    {
     "data": {
      "text/plain": [
       "1"
      ]
     },
     "execution_count": 85,
     "metadata": {},
     "output_type": "execute_result"
    }
   ],
   "source": [
    "zerocount"
   ]
  },
  {
   "cell_type": "code",
   "execution_count": null,
   "metadata": {},
   "outputs": [],
   "source": []
  }
 ],
 "metadata": {
  "interpreter": {
   "hash": "566c7dc836cf49ea79a80bde3a77d731ae67019fab1def2dd83c01090ce827fd"
  },
  "kernelspec": {
   "display_name": "Python 3.8.5 64-bit ('DataViz': conda)",
   "name": "python3"
  },
  "language_info": {
   "codemirror_mode": {
    "name": "ipython",
    "version": 3
   },
   "file_extension": ".py",
   "mimetype": "text/x-python",
   "name": "python",
   "nbconvert_exporter": "python",
   "pygments_lexer": "ipython3",
   "version": "3.8.5"
  },
  "orig_nbformat": 4
 },
 "nbformat": 4,
 "nbformat_minor": 2
}