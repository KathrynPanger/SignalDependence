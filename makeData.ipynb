{
  "nbformat": 4,
  "nbformat_minor": 0,
  "metadata": {
    "colab": {
      "name": "makeData.ipynb",
      "provenance": [],
      "collapsed_sections": []
    },
    "kernelspec": {
      "name": "python3",
      "display_name": "Python 3"
    },
    "language_info": {
      "name": "python"
    }
  },
  "cells": [
    {
      "cell_type": "code",
      "metadata": {
        "colab": {
          "base_uri": "https://localhost:8080/"
        },
        "id": "bmXOJy_-D_Tr",
        "outputId": "4dc1885a-1fa3-4fc0-aa2d-a5066d28de9d"
      },
      "source": [
        "import numpy as np\n",
        "from scipy.signal import find_peaks\n",
        "import librosa\n",
        "import os\n",
        "from google.colab import drive\n",
        "import matplotlib.pyplot as plt\n",
        "drive.mount('/content/drive')\n",
        "import IPython.display as ipd\n",
        "from scipy import signal\n",
        "import math\n",
        "import random\n",
        "import statistics as st\n",
        "import pandas as pd\n",
        "import os\n"
      ],
      "execution_count": 2,
      "outputs": [
        {
          "output_type": "stream",
          "name": "stdout",
          "text": [
            "Drive already mounted at /content/drive; to attempt to forcibly remount, call drive.mount(\"/content/drive\", force_remount=True).\n"
          ]
        }
      ]
    },
    {
      "cell_type": "code",
      "metadata": {
        "id": "Chsw-oX-iH13"
      },
      "source": [
        "os.chdir(\"drive/MyDrive/Colab Notebooks/music\")\n",
        "\n"
      ],
      "execution_count": 10,
      "outputs": []
    },
    {
      "cell_type": "code",
      "metadata": {
        "colab": {
          "base_uri": "https://localhost:8080/"
        },
        "id": "4aQDi-YHiUOE",
        "outputId": "4b0df281-7569-42f9-a838-10dfedce9d9c"
      },
      "source": [
        "os.listdir()"
      ],
      "execution_count": 7,
      "outputs": [
        {
          "output_type": "execute_result",
          "data": {
            "text/plain": [
              "['How to get started with Drive.pdf',\n",
              " '01380_20141117110954.pdf',\n",
              " 'Benokraitis_SOC3_Ch3.ppt',\n",
              " 'Social Interaction and Social Structure.pptx',\n",
              " 'Privledge.gform',\n",
              " 'Panger, K 2015-Nonresident.docx',\n",
              " 'Untitled form (Responses).gsheet',\n",
              " 'S_history',\n",
              " 'Data Analytics Reflect Activity.gdoc',\n",
              " 'PREWORK_KEP',\n",
              " 'Colab Notebooks',\n",
              " 'FinalDataProject',\n",
              " 'playback.m3u',\n",
              " 'zoom_0.mp4',\n",
              " 'audio_only.m4a',\n",
              " 'my story (bad relationship).gdoc',\n",
              " 'Intro to MongoDB.gslides',\n",
              " 'Onboarding Outline.gdoc',\n",
              " \"I am sharing 'Document (1)' with you\",\n",
              " 'Copy of TEMPLATE- Career Strategy Plan (General).gdoc',\n",
              " 'resume_data_2020_DA.pdf',\n",
              " 'resume data analyst 2020 analysis.docx',\n",
              " 'Copy of Resume.gdoc',\n",
              " 'Untitled spreadsheet.gsheet',\n",
              " 'Social Problems Readings',\n",
              " 'Movies',\n",
              " 'Value Driver Tree for Regression Analysis.gdoc',\n",
              " 'Resume.gdoc',\n",
              " 'Copy of Presentation Southern Water Corp [Student Template].pptx',\n",
              " 'Copy of Southern Water Corp Financial Case Study MCU Student Facing 17052020.xlsx',\n",
              " 'config',\n",
              " 'config.py',\n",
              " 'Resume: Kathryn Panger.gdoc',\n",
              " 'Copy of Southern Water Corp Economics Case Study MCU Student Facing 30052020.xlsx',\n",
              " 'Kathryn_Panger_Resume.gdoc',\n",
              " 'Copy of Resume for temp.gdoc',\n",
              " 'Kathryn Panger Resume.gdoc',\n",
              " 'Kathryn Panger Resume_.gdoc',\n",
              " 'Copy of DS   DA Skills.gsheet',\n",
              " 'Untitled form.gform',\n",
              " 'Untitled document.gdoc',\n",
              " 'not.gdoc',\n",
              " 'Personal',\n",
              " 'KathrynPangerCoverLetter (1).gdoc',\n",
              " 'Copy of Kathryn P - SQL Pre-Screen Questionnaire.gdoc',\n",
              " 'Copy of KathrynPangerCoverLetter.gdoc',\n",
              " 'KathrynPangerCoverLetter2.gdoc',\n",
              " 'KathrynPangerCoverLetter.gdoc',\n",
              " 'KathrynPangerResume.pdf.gdoc',\n",
              " 'Trippy',\n",
              " 'IMG_2126.HEIC',\n",
              " 'IMG_2137.HEIC',\n",
              " 'IMG_2136.HEIC',\n",
              " 'IMG_2125.HEIC',\n",
              " 'IMG_2127.HEIC',\n",
              " 'IMG_2123.HEIC',\n",
              " 'IMG_2129.HEIC',\n",
              " 'IMG_2122.HEIC',\n",
              " 'IMG_2138.HEIC',\n",
              " 'IMG_2131.JPG',\n",
              " 'IMG_2139.HEIC',\n",
              " 'IMG_2140.HEIC',\n",
              " 'IMG_2141.HEIC',\n",
              " 'IMG_2142.HEIC',\n",
              " 'IMG_2143.HEIC',\n",
              " 'IMG_2144.HEIC',\n",
              " 'IMG_2147.HEIC',\n",
              " 'IMG_2148.HEIC',\n",
              " 'IMG_2146.HEIC',\n",
              " 'IMG_2149.HEIC',\n",
              " 'IMG_2150.HEIC',\n",
              " 'KathrynPangerResume.gdoc',\n",
              " 'zork',\n",
              " 'Igetagoodslap_20211015_114905490_1.mp4']"
            ]
          },
          "metadata": {},
          "execution_count": 7
        }
      ]
    },
    {
      "cell_type": "code",
      "metadata": {
        "id": "6sqVZdgSjhrE"
      },
      "source": [
        "df=pd.DataFrame(columns=[\"filename\",\"forier\", \"has_square\"])"
      ],
      "execution_count": 18,
      "outputs": []
    },
    {
      "cell_type": "code",
      "metadata": {
        "colab": {
          "base_uri": "https://localhost:8080/"
        },
        "id": "e5r-BqCdrxKz",
        "outputId": "64f488b3-3016-4442-acdc-1689f854e62d"
      },
      "source": [
        ""
      ],
      "execution_count": null,
      "outputs": [
        {
          "output_type": "execute_result",
          "data": {
            "text/plain": [
              "[]"
            ]
          },
          "metadata": {},
          "execution_count": 68
        }
      ]
    },
    {
      "cell_type": "code",
      "metadata": {
        "colab": {
          "base_uri": "https://localhost:8080/",
          "height": 35
        },
        "id": "AOpXHxrRi1WD",
        "outputId": "c818f722-76a7-4712-816d-ecbf8c521e13"
      },
      "source": [
        "os.listdir()[0]"
      ],
      "execution_count": null,
      "outputs": [
        {
          "output_type": "execute_result",
          "data": {
            "application/vnd.google.colaboratory.intrinsic+json": {
              "type": "string"
            },
            "text/plain": [
              "'014 - Run For Your Life.mp3'"
            ]
          },
          "metadata": {},
          "execution_count": 51
        }
      ]
    },
    {
      "cell_type": "code",
      "metadata": {
        "id": "1jy7JM0VEWGg"
      },
      "source": [
        "data2=[]\n",
        "sr2=[]\n",
        "for i in range (math.floor(len(data1)/2)):\n",
        "  data2.append(data1[i])\n",
        "\n",
        "sr2=math.floor(sr1/2)"
      ],
      "execution_count": null,
      "outputs": []
    },
    {
      "cell_type": "code",
      "metadata": {
        "id": "UTZk8J5-Fzll"
      },
      "source": [
        "class soundSample:\n",
        "  def __init__(self, filename):\n",
        "    self.name = filename\n",
        "    self.data = librosa.load(filename)[0]\n",
        "    self.sr = librosa.load(filename)[1]\n",
        "    self.t = np.arange(0,len(self.data),1)\n",
        "    self.n=len(self.data)\n",
        "    self.fhat=np.fft.fft(self.data,self.n)\n",
        "    self.PSD = self.fhat+np.conj(self.fhat)/self.n\n",
        "    self.freq=(1/(self.n)) *np.arange(self.n)\n",
        "    self.L=np.arange(1,np.floor(self.n/2),dtype=\"int\")\n",
        "    self.forier = (self.freq[self.L], abs(self.PSD[self.L]))\n",
        "    self.square=[]\n",
        "    self.squarePlot=[]\n",
        "    self.squareAdded=librosa.load(filename)[0]\n",
        "    self.squareForier= []\n",
        "    self.squareAmp=[]\n",
        "    self.squareFreq=[]\n",
        "    self.squareN=[]\n",
        "    self.squarePSD=[]\n",
        "    self.squareFhat=[]\n",
        "    self.squareFreq=[]\n",
        "    self.squareL=[]\n",
        "    self.is_shifted=0\n",
        "\n",
        "    self.combined = []\n",
        "    self.combinedN=[]\n",
        "    self.combinedFhat=[]\n",
        "    self.combinedPSD = []\n",
        "    self.combinedFreq=[]\n",
        "    self.combinedL=[]\n",
        "    self.combinedForier = []\n",
        "    \n",
        "    \n",
        "  def plotSound(self):\n",
        "    plt.rcParams['figure.figsize'] = [30,3]\n",
        "    plt.plot(self.data)\n",
        "\n",
        "  def plotForier(self):\n",
        "    plt.plot(self.forier[0],self.forier[1])\n",
        "\n",
        "  def addSquare(self, amplitude, frequency, time, endpoint):\n",
        "    dt=0.001* endpoint\n",
        "    t=np.arange(0,endpoint,dt)\n",
        "    f=signal.square(amplitude*(2 * np.pi * frequency * t))\n",
        "    #if is_shifted == 1:\n",
        "    #  f = f[: math.floor(len(f)/2)]\n",
        "    #  self.is_shifted = 1\n",
        "    self.square = f\n",
        "    self.squareN=len(f)\n",
        "    self.squareFhat=np.fft.fft(f,self.squareN)\n",
        "    self.squarePSD = self.squareFhat+np.conj(self.squareFhat)/self.squareN\n",
        "    self.squareFreq=(1/(self.squareN)) *np.arange(self.squareN)\n",
        "    self.squareL=np.arange(1,np.floor(self.squareN/2),dtype=\"int\")\n",
        "    self.squareForier = (self.squareFreq[self.squareL], abs(self.squarePSD[self.squareL]))\n",
        "\n",
        "    squareAdded=self.squareAdded\n",
        "    for i in range(len(f)):\n",
        "      squareAdded[i+time]+=f[i]\n",
        "    self.squareAdded=squareAdded\n",
        "    self.squareAmp = amplitude\n",
        "    self.squareFreq= frequency\n",
        "\n",
        "    self.combined = squareAdded\n",
        "    self.combinedN=len(squareAdded)\n",
        "    self.combinedFhat=np.fft.fft(f,self.combinedN)\n",
        "    self.combinedPSD = self.combinedFhat+np.conj(self.combinedFhat)/self.combinedN\n",
        "    self.combinedFreq=(1/(self.combinedN)) *np.arange(self.combinedN)\n",
        "    self.combinedL=np.arange(1,np.floor(self.combinedN/2),dtype=\"int\")\n",
        "    self.combinedForier = (self.combinedFreq[self.combinedL], abs(self.combinedPSD[self.combinedL]))\n",
        "    \n",
        "  def plotSquareForier(self):\n",
        "    plt.plot(self.squareForier[0],self.squareForier[1])\n",
        "\n",
        "  def plotCombinedForier(self):\n",
        "    plt.plot(self.combinedForier[0],self.combinedForier[1])\n",
        "\n",
        "  def plotSquare(self):\n",
        "    plt.rcParams['figure.figsize'] = [5,5]\n",
        "    is_shifted = self.is_shifted\n",
        "    if is_shifted == 0:\n",
        "      t = np.linspace(0, 1, 1000, endpoint=True)\n",
        "    elif is_shifted == 1:\n",
        "      t = np.linspace(0, 1, 500, endpoint=True)\n",
        "    plt.title(f'Sqaure wave - {self.squareFreq} Hz, {self.squareAmp} metres, sampled at 1000 Hz /second')\n",
        "    plt.xlabel('Time')\n",
        "    plt.ylabel('Amplitude')\n",
        "    plt.grid(True, which='both')\n",
        "    plt.axhline(y=0, color='k')\n",
        "    plt.ylim(-2, 2)\n",
        "    plt.plot(t, self.square)\n",
        "    plt.show()\n",
        "\n",
        "  def plotCombined(self):\n",
        "    plt.rcParams['figure.figsize'] = [30,3]\n",
        "    plt.plot(self.squareAdded)\n",
        "    plt.show()"
      ],
      "execution_count": 19,
      "outputs": []
    },
    {
      "cell_type": "code",
      "metadata": {
        "colab": {
          "base_uri": "https://localhost:8080/"
        },
        "id": "qJgbRFH1EC13",
        "outputId": "3868f462-4bdd-4f14-b17d-eee096170ac4"
      },
      "source": [
        "counter=1\n",
        "row = []\n",
        "for item in os.listdir():\n",
        "  data=soundSample(item)\n",
        "  if counter %2 == 0:\n",
        "    row.append ([data.forier[1], 0])\n",
        "    counter +=1\n",
        "    print(counter)\n",
        "    print(row)\n",
        "  else:\n",
        "    frequency =  random.uniform(0.1, 0.9)\n",
        "    amplitude = random.uniform(0.4, 1)\n",
        "    time = random.randint(0,len(data.data)-100)\n",
        "    endpoint = 30\n",
        "    data.addSquare(amplitude, frequency, time, endpoint)\n",
        "    row.append([data.combinedForier[1],1])\n",
        "    counter +=1\n",
        "    print(counter)\n",
        "    print(row)\n",
        "  \n"
      ],
      "execution_count": null,
      "outputs": [
        {
          "output_type": "stream",
          "name": "stderr",
          "text": [
            "/usr/local/lib/python3.7/dist-packages/librosa/core/audio.py:165: UserWarning: PySoundFile failed. Trying audioread instead.\n",
            "  warnings.warn(\"PySoundFile failed. Trying audioread instead.\")\n"
          ]
        }
      ]
    },
    {
      "cell_type": "code",
      "metadata": {
        "colab": {
          "base_uri": "https://localhost:8080/",
          "height": 238
        },
        "id": "mnmLa-NIGPcX",
        "outputId": "095c13c6-1324-4d3f-8081-cf71700a296c"
      },
      "source": [
        "data1Sound=soundSample(data1, sr1)\n",
        "data1Sound.addSquare(0.5, 0.1, 500, endpoint = 30) #minimum 0.2. Try to maximize.\n",
        "\n",
        "\n",
        "data1Sound.plotSquare()\n",
        "data1Sound.plotCombined()\n",
        "data1Sound.plotCombinedForier()"
      ],
      "execution_count": null,
      "outputs": [
        {
          "output_type": "error",
          "ename": "TypeError",
          "evalue": "ignored",
          "traceback": [
            "\u001b[0;31m---------------------------------------------------------------------------\u001b[0m",
            "\u001b[0;31mTypeError\u001b[0m                                 Traceback (most recent call last)",
            "\u001b[0;32m<ipython-input-71-a55c728dfb3f>\u001b[0m in \u001b[0;36m<module>\u001b[0;34m()\u001b[0m\n\u001b[0;32m----> 1\u001b[0;31m \u001b[0mdata1Sound\u001b[0m\u001b[0;34m=\u001b[0m\u001b[0msoundSample\u001b[0m\u001b[0;34m(\u001b[0m\u001b[0mdata1\u001b[0m\u001b[0;34m,\u001b[0m \u001b[0msr1\u001b[0m\u001b[0;34m)\u001b[0m\u001b[0;34m\u001b[0m\u001b[0;34m\u001b[0m\u001b[0m\n\u001b[0m\u001b[1;32m      2\u001b[0m \u001b[0mdata1Sound\u001b[0m\u001b[0;34m.\u001b[0m\u001b[0maddSquare\u001b[0m\u001b[0;34m(\u001b[0m\u001b[0;36m0.5\u001b[0m\u001b[0;34m,\u001b[0m \u001b[0;36m0.1\u001b[0m\u001b[0;34m,\u001b[0m \u001b[0;36m500\u001b[0m\u001b[0;34m,\u001b[0m \u001b[0mendpoint\u001b[0m \u001b[0;34m=\u001b[0m \u001b[0;36m30\u001b[0m\u001b[0;34m)\u001b[0m \u001b[0;31m#minimum 0.2. Try to maximize.\u001b[0m\u001b[0;34m\u001b[0m\u001b[0;34m\u001b[0m\u001b[0m\n\u001b[1;32m      3\u001b[0m \u001b[0;34m\u001b[0m\u001b[0m\n\u001b[1;32m      4\u001b[0m \u001b[0;34m\u001b[0m\u001b[0m\n\u001b[1;32m      5\u001b[0m \u001b[0mdata1Sound\u001b[0m\u001b[0;34m.\u001b[0m\u001b[0mplotSquare\u001b[0m\u001b[0;34m(\u001b[0m\u001b[0;34m)\u001b[0m\u001b[0;34m\u001b[0m\u001b[0;34m\u001b[0m\u001b[0m\n",
            "\u001b[0;31mTypeError\u001b[0m: __init__() takes 2 positional arguments but 3 were given"
          ]
        }
      ]
    },
    {
      "cell_type": "code",
      "metadata": {
        "colab": {
          "base_uri": "https://localhost:8080/",
          "height": 238
        },
        "id": "w0IEQVfDGoyl",
        "outputId": "3fe98979-e205-417d-b9ca-99096fabb06f"
      },
      "source": [
        "data2Sound=soundSample(data2, sr2)\n",
        "data2Sound.addSquare(0.5, 0.1, 100, endpoint = 30) #minimum 0.2. Try to maximize.\n",
        "\n",
        "\n",
        "#data2Sound.plotSquare()\n",
        "#data2Sound.plotCombined()\n",
        "data2Sound.plotSquareForier()\n"
      ],
      "execution_count": null,
      "outputs": [
        {
          "output_type": "error",
          "ename": "TypeError",
          "evalue": "ignored",
          "traceback": [
            "\u001b[0;31m---------------------------------------------------------------------------\u001b[0m",
            "\u001b[0;31mTypeError\u001b[0m                                 Traceback (most recent call last)",
            "\u001b[0;32m<ipython-input-73-08851129de52>\u001b[0m in \u001b[0;36m<module>\u001b[0;34m()\u001b[0m\n\u001b[0;32m----> 1\u001b[0;31m \u001b[0mdata2Sound\u001b[0m\u001b[0;34m=\u001b[0m\u001b[0msoundSample\u001b[0m\u001b[0;34m(\u001b[0m\u001b[0mdata2\u001b[0m\u001b[0;34m,\u001b[0m \u001b[0msr2\u001b[0m\u001b[0;34m)\u001b[0m\u001b[0;34m\u001b[0m\u001b[0;34m\u001b[0m\u001b[0m\n\u001b[0m\u001b[1;32m      2\u001b[0m \u001b[0mdata2Sound\u001b[0m\u001b[0;34m.\u001b[0m\u001b[0maddSquare\u001b[0m\u001b[0;34m(\u001b[0m\u001b[0;36m0.5\u001b[0m\u001b[0;34m,\u001b[0m \u001b[0;36m0.1\u001b[0m\u001b[0;34m,\u001b[0m \u001b[0;36m100\u001b[0m\u001b[0;34m,\u001b[0m \u001b[0mendpoint\u001b[0m \u001b[0;34m=\u001b[0m \u001b[0;36m30\u001b[0m\u001b[0;34m)\u001b[0m \u001b[0;31m#minimum 0.2. Try to maximize.\u001b[0m\u001b[0;34m\u001b[0m\u001b[0;34m\u001b[0m\u001b[0m\n\u001b[1;32m      3\u001b[0m \u001b[0;34m\u001b[0m\u001b[0m\n\u001b[1;32m      4\u001b[0m \u001b[0;34m\u001b[0m\u001b[0m\n\u001b[1;32m      5\u001b[0m \u001b[0;31m#data2Sound.plotSquare()\u001b[0m\u001b[0;34m\u001b[0m\u001b[0;34m\u001b[0m\u001b[0;34m\u001b[0m\u001b[0m\n",
            "\u001b[0;31mTypeError\u001b[0m: __init__() takes 2 positional arguments but 3 were given"
          ]
        }
      ]
    },
    {
      "cell_type": "code",
      "metadata": {
        "colab": {
          "base_uri": "https://localhost:8080/",
          "height": 151
        },
        "id": "3xb3ztA2Hoco",
        "outputId": "ff377077-1b2c-4844-89bb-9dbbfae46e0e"
      },
      "source": [
        "data1Sound.plotCombinedForier()"
      ],
      "execution_count": null,
      "outputs": [
        {
          "output_type": "display_data",
          "data": {
            "image/png": "[encoded data removed]",
            "text/plain": [
              "<Figure size 2160x216 with 1 Axes>"
            ]
          },
          "metadata": {
            "needs_background": "light"
          }
        }
      ]
    },
    {
      "cell_type": "code",
      "metadata": {
        "colab": {
          "base_uri": "https://localhost:8080/"
        },
        "id": "cjLRH8K8seEC",
        "outputId": "3942a10d-36c1-4a81-edc2-ccbd73696c41"
      },
      "source": [
        "data1Sound.combinedForier[1]"
      ],
      "execution_count": null,
      "outputs": [
        {
          "output_type": "execute_result",
          "data": {
            "text/plain": [
              "array([333.99977829, 333.99860563, 333.99665118, ...,   2.00000421,\n",
              "         2.00000243,   2.00000137])"
            ]
          },
          "metadata": {},
          "execution_count": 77
        }
      ]
    },
    {
      "cell_type": "code",
      "metadata": {
        "id": "YFvK0KX9UlCG"
      },
      "source": [
        "def cropOrExpand(array1, array2):\n",
        "  if len(array1)>len(array2):\n",
        "    newArray2= [0]*len(array1)\n",
        "    for i in range(len(array2)):\n",
        "      newArray2[i]=array2[i]\n",
        "  elif len(array1)<len(array2):\n",
        "    newArray2=[]\n",
        "    for i in range(len(array1)):\n",
        "      newArray2.append(array2[i])\n",
        "  else:\n",
        "    pass\n",
        "  return(newArray2)\n",
        "      \n"
      ],
      "execution_count": null,
      "outputs": []
    },
    {
      "cell_type": "code",
      "metadata": {
        "id": "LkP6W_xjILN5",
        "colab": {
          "base_uri": "https://localhost:8080/",
          "height": 238
        },
        "outputId": "a28aac38-cb24-40ed-a575-63469aff1d3b"
      },
      "source": [
        "newArray2=cropOrExpand(data1Sound.PSD, data2Sound.PSD)\n",
        "indices=[]\n",
        "for i in range (len(data1Sound.PSD)):\n",
        "  if data1Sound.PSD[i] not in newArray2:\n",
        "    indices.append(data1Sound.PSD[i])\n",
        "  else:\n",
        "    indices.append(0)\n",
        "PSDClean=data1Sound.PSD * indices\n",
        "fhat=indices * data1Sound.combinedFhat\n",
        "ffit = np.fft.ifft(fhat) #This is the inverse fourier tranform I think\n",
        "plt.plot(ffit)"
      ],
      "execution_count": null,
      "outputs": [
        {
          "output_type": "error",
          "ename": "KeyboardInterrupt",
          "evalue": "ignored",
          "traceback": [
            "\u001b[0;31m---------------------------------------------------------------------------\u001b[0m",
            "\u001b[0;31mKeyboardInterrupt\u001b[0m                         Traceback (most recent call last)",
            "\u001b[0;32m<ipython-input-36-400a04e462ea>\u001b[0m in \u001b[0;36m<module>\u001b[0;34m()\u001b[0m\n\u001b[1;32m      2\u001b[0m \u001b[0mindices\u001b[0m\u001b[0;34m=\u001b[0m\u001b[0;34m[\u001b[0m\u001b[0;34m]\u001b[0m\u001b[0;34m\u001b[0m\u001b[0;34m\u001b[0m\u001b[0m\n\u001b[1;32m      3\u001b[0m \u001b[0;32mfor\u001b[0m \u001b[0mi\u001b[0m \u001b[0;32min\u001b[0m \u001b[0mrange\u001b[0m \u001b[0;34m(\u001b[0m\u001b[0mlen\u001b[0m\u001b[0;34m(\u001b[0m\u001b[0mdata1Sound\u001b[0m\u001b[0;34m.\u001b[0m\u001b[0mPSD\u001b[0m\u001b[0;34m)\u001b[0m\u001b[0;34m)\u001b[0m\u001b[0;34m:\u001b[0m\u001b[0;34m\u001b[0m\u001b[0;34m\u001b[0m\u001b[0m\n\u001b[0;32m----> 4\u001b[0;31m   \u001b[0;32mif\u001b[0m \u001b[0mdata1Sound\u001b[0m\u001b[0;34m.\u001b[0m\u001b[0mPSD\u001b[0m\u001b[0;34m[\u001b[0m\u001b[0mi\u001b[0m\u001b[0;34m]\u001b[0m \u001b[0;32mnot\u001b[0m \u001b[0;32min\u001b[0m \u001b[0mnewArray2\u001b[0m\u001b[0;34m:\u001b[0m\u001b[0;34m\u001b[0m\u001b[0;34m\u001b[0m\u001b[0m\n\u001b[0m\u001b[1;32m      5\u001b[0m     \u001b[0mindices\u001b[0m\u001b[0;34m.\u001b[0m\u001b[0mappend\u001b[0m\u001b[0;34m(\u001b[0m\u001b[0mdata1Sound\u001b[0m\u001b[0;34m.\u001b[0m\u001b[0mPSD\u001b[0m\u001b[0;34m[\u001b[0m\u001b[0mi\u001b[0m\u001b[0;34m]\u001b[0m\u001b[0;34m)\u001b[0m\u001b[0;34m\u001b[0m\u001b[0;34m\u001b[0m\u001b[0m\n\u001b[1;32m      6\u001b[0m   \u001b[0;32melse\u001b[0m\u001b[0;34m:\u001b[0m\u001b[0;34m\u001b[0m\u001b[0;34m\u001b[0m\u001b[0m\n",
            "\u001b[0;31mKeyboardInterrupt\u001b[0m: "
          ]
        }
      ]
    },
    {
      "cell_type": "code",
      "metadata": {
        "colab": {
          "base_uri": "https://localhost:8080/",
          "height": 158
        },
        "id": "WnBLPMt2Rj6z",
        "outputId": "8a52c73f-68c6-4509-8173-cf4106a35a89"
      },
      "source": [
        "data1Sound.plotCombined()"
      ],
      "execution_count": null,
      "outputs": [
        {
          "output_type": "display_data",
          "data": {
            "image/png": "[encoded data removed]",
            "text/plain": [
              "<Figure size 2160x216 with 1 Axes>"
            ]
          },
          "metadata": {
            "needs_background": "light"
          }
        }
      ]
    },
    {
      "cell_type": "code",
      "metadata": {
        "colab": {
          "base_uri": "https://localhost:8080/"
        },
        "id": "suTZsLzzR9kh",
        "outputId": "9d8b967c-356e-4153-cf58-67e2cce60b02"
      },
      "source": [
        "len(data1Sound.PSD)"
      ],
      "execution_count": null,
      "outputs": [
        {
          "output_type": "execute_result",
          "data": {
            "text/plain": [
              "1974178"
            ]
          },
          "metadata": {},
          "execution_count": 26
        }
      ]
    },
    {
      "cell_type": "code",
      "metadata": {
        "id": "adaafjBAXf9C"
      },
      "source": [
        ""
      ],
      "execution_count": null,
      "outputs": []
    }
  ]
}